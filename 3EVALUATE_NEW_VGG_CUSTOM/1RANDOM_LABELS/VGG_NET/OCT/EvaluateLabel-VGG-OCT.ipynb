{
 "cells": [
  {
   "cell_type": "code",
   "execution_count": 1,
   "metadata": {},
   "outputs": [
    {
     "name": "stdout",
     "output_type": "stream",
     "text": [
      "1 Physical GPUs, 1 Logical GPUs\n"
     ]
    }
   ],
   "source": [
    "#Importing Necessary Libraries.\n",
    "\n",
    "from PIL import Image\n",
    "import numpy as np\n",
    "import pandas as pd \n",
    "import os\n",
    "import re\n",
    "import cv2\n",
    "from pathlib import Path\n",
    "\n",
    "import matplotlib.pyplot as P\n",
    "import tensorflow as tf\n",
    "\n",
    "gpus = tf.config.experimental.list_physical_devices('GPU')\n",
    "if gpus:\n",
    "    try:\n",
    "        for gpu in gpus:\n",
    "            tf.config.experimental.set_memory_growth(gpu, True)\n",
    "            tf.config.experimental.set_virtual_device_configuration(gpus[0], [tf.config.experimental.VirtualDeviceConfiguration(memory_limit=4024)])\n",
    "            logical_gpus = tf.config.experimental.list_logical_devices('GPU')\n",
    "            print(len(gpus), \"Physical GPUs,\", len(logical_gpus), \"Logical GPUs\")\n",
    "    except RuntimeError as e:\n",
    "        print(e)"
   ]
  },
  {
   "cell_type": "code",
   "execution_count": 2,
   "metadata": {},
   "outputs": [
    {
     "data": {
      "text/plain": [
       "'2.2.0'"
      ]
     },
     "execution_count": 2,
     "metadata": {},
     "output_type": "execute_result"
    }
   ],
   "source": [
    "from scipy.stats import spearmanr as spr\n",
    "\n",
    "from tensorflow import keras\n",
    "from tensorflow.keras.models import Sequential\n",
    "from tensorflow.keras.layers import *\n",
    "from tensorflow.keras import backend as K\n",
    "from tensorflow.keras.models import Sequential, Model\n",
    "from tensorflow.keras.utils import plot_model, to_categorical\n",
    "from tensorflow.keras.preprocessing.image import ImageDataGenerator, array_to_img, img_to_array, load_img\n",
    "\n",
    "import glob2\n",
    "\n",
    "\n",
    "tf.__version__"
   ]
  },
  {
   "cell_type": "code",
   "execution_count": 3,
   "metadata": {},
   "outputs": [],
   "source": [
    "INPUT_TRUE = \"/home/maia/Documents/Universidade/Universidade/UNIVERSIDADE/EXPERIMENTO/2EXPLAIN_NEW_VGG_CUSTOM/VGG/OCT/OUT/VGG-OCT-TRUE/*/*.png\"\n",
    "INPUT_FILES_TRUE = glob2.glob(INPUT_TRUE)\n",
    "\n",
    "INPUT_RANDOM = \"/home/maia/Documents/Universidade/Universidade/UNIVERSIDADE/EXPERIMENTO/2EXPLAIN_NEW_VGG_CUSTOM/VGG/OCT/OUT/VGG-OCT-RANDOM/*/*.png\"\n",
    "INPUT_FILES_RANDOM = glob2.glob(INPUT_RANDOM)\n"
   ]
  },
  {
   "cell_type": "code",
   "execution_count": 4,
   "metadata": {},
   "outputs": [],
   "source": [
    "def image_generator(directory, res):\n",
    "    test_datagen = ImageDataGenerator()\n",
    "    image_generator = test_datagen.flow_from_directory(\n",
    "            directory,\n",
    "            target_size=(res, res),\n",
    "            batch_size=1,\n",
    "            color_mode = \"grayscale\",\n",
    "            shuffle=False,\n",
    "            class_mode='categorical')\n",
    "    return image_generator"
   ]
  },
  {
   "cell_type": "code",
   "execution_count": 5,
   "metadata": {},
   "outputs": [],
   "source": [
    "result_dict = {\n",
    "    \"puro_spearman\":[],\n",
    "    \"pvalue\" : [],\n",
    "    \"method\" : []\n",
    "}\n",
    "\n",
    "result_dict = {\n",
    "    \"puro_spearman\":[],\n",
    "    \"pvalue\" : [],\n",
    "    \"method\" : []\n",
    "}\n",
    "\n",
    "\n",
    "for im_TRUE, im_RANDOM in zip(INPUT_FILES_TRUE, INPUT_FILES_RANDOM):\n",
    "    im_TRUELOAD = cv2.imread(im_TRUE)\n",
    "    im_RANDOMLOAD = cv2.imread(im_RANDOM)\n",
    "    \n",
    "    puro_spearman = spr(im_TRUELOAD.flatten(), im_RANDOMLOAD.flatten())\n",
    "    result_dict[\"method\"].append(im_TRUE.split(\"/\")[13])\n",
    "    result_dict[\"puro_spearman\"].append(puro_spearman.correlation)\n",
    "    result_dict[\"pvalue\"].append(puro_spearman.pvalue)\n",
    "\n",
    "result_df = pd.DataFrame(result_dict)\n",
    "result_df.to_csv(\"result.csv\")"
   ]
  }
 ],
 "metadata": {
  "kernelspec": {
   "display_name": "Python [conda env:MST_TRAIN]",
   "language": "python",
   "name": "conda-env-MST_TRAIN-py"
  },
  "language_info": {
   "codemirror_mode": {
    "name": "ipython",
    "version": 3
   },
   "file_extension": ".py",
   "mimetype": "text/x-python",
   "name": "python",
   "nbconvert_exporter": "python",
   "pygments_lexer": "ipython3",
   "version": "3.7.10"
  }
 },
 "nbformat": 4,
 "nbformat_minor": 4
}
