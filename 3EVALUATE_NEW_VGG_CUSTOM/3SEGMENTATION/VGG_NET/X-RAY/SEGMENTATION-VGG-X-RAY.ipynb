{
 "cells": [
  {
   "cell_type": "code",
   "execution_count": 1,
   "metadata": {},
   "outputs": [],
   "source": [
    "%matplotlib inline\n",
    "import os\n",
    "import numpy as np\n",
    "from tqdm import tqdm\n",
    "import math\n",
    "import pandas as pd\n",
    "import cv2\n",
    "import matplotlib.pyplot as plt\n",
    "import glob2"
   ]
  },
  {
   "cell_type": "code",
   "execution_count": 2,
   "metadata": {},
   "outputs": [],
   "source": [
    "SEG_INPUT = \"/home/maia/Documents/Universidade/Universidade/UNIVERSIDADE/EXPERIMENTO/3EVALUATE_NEW_VGG_CUSTOM/3SEGMENTATION/SEGMENTATION/ALL/\"\n",
    "EXPLAIN_OUT = \"/home/maia/Documents/Universidade/Universidade/UNIVERSIDADE/EXPERIMENTO/2EXPLAIN_NEW_VGG_CUSTOM/VGG/XRAY/OUT/VGG-XRAY-TRUE/*\"\n",
    "#EXPLAIN_OUT = \"/home/maia/Documents/Universidade/Universidade/UNIVERSIDADE/EXPERIMENTO/2EXPLAIN_NEW_VGG_CUSTOM/VGG/XRAY/OUT/VGG-XRAY-RANDOM/*\"\n",
    "#EXPLAIN_OUT = \"/home/maia/Documents/Universidade/Universidade/UNIVERSIDADE/EXPERIMENTO/2EXPLAIN_NEW_VGG_CUSTOM/CUSTOMCNN/XRAY/OUT/CUSTOM-XRAY-TRUE/*\"\n",
    "\n",
    "SEG_FILES = glob2.glob(SEG_INPUT)\n",
    "EXPLAIN_FILES = glob2.glob(EXPLAIN_OUT)"
   ]
  },
  {
   "cell_type": "code",
   "execution_count": 3,
   "metadata": {},
   "outputs": [],
   "source": [
    "#\n",
    "def score_loc(im_e, im_s):\n",
    "    indices_255 = 0\n",
    "    all_indices = np.argwhere(im_e == np.amax(im_e))\n",
    "    for indices in all_indices:\n",
    "        x, y = indices\n",
    "        if(im_s[x, y] > 250):\n",
    "            indices_255 += 1\n",
    "    result = indices_255/len(all_indices)\n",
    "    return result"
   ]
  },
  {
   "cell_type": "code",
   "execution_count": 4,
   "metadata": {},
   "outputs": [],
   "source": [
    "scores = {}\n",
    "for method in EXPLAIN_FILES:\n",
    "    scores[method.split(\"/\")[-1]] = 0\n",
    "    for file in glob2.glob(method + \"/*\"):\n",
    "        filename, _ = os.path.splitext(os.path.basename(file))\n",
    "        explanation = cv2.cvtColor(cv2.imread(file), cv2.COLOR_BGR2GRAY)\n",
    "        segmentation = cv2.cvtColor(cv2.imread(SEG_INPUT+filename+\"_predict.jpeg\"), cv2.COLOR_BGR2GRAY)\n",
    "        score = score_loc(explanation, segmentation)\n",
    "        scores[method.split(\"/\")[-1]] = scores[method.split(\"/\")[-1]] + score\n",
    "    scores[method.split(\"/\")[-1]] = scores[method.split(\"/\")[-1]]/50"
   ]
  },
  {
   "cell_type": "code",
   "execution_count": 5,
   "metadata": {},
   "outputs": [],
   "source": [
    "del scores['Original']\n",
    "df = pd.DataFrame(scores, index=[0]).transpose()"
   ]
  },
  {
   "cell_type": "code",
   "execution_count": 6,
   "metadata": {},
   "outputs": [
    {
     "data": {
      "text/plain": [
       "<AxesSubplot:>"
      ]
     },
     "execution_count": 6,
     "metadata": {},
     "output_type": "execute_result"
    },
    {
     "data": {
      "image/png": "[encoded data removed]",
      "text/plain": [
       "<Figure size 432x288 with 1 Axes>"
      ]
     },
     "metadata": {
      "needs_background": "light"
     },
     "output_type": "display_data"
    }
   ],
   "source": [
    "df.plot(kind=\"bar\")"
   ]
  },
  {
   "cell_type": "code",
   "execution_count": 8,
   "metadata": {},
   "outputs": [],
   "source": [
    "df.to_csv(\"vgg_segmentation.csv\")"
   ]
  },
  {
   "cell_type": "code",
   "execution_count": null,
   "metadata": {},
   "outputs": [],
   "source": []
  }
 ],
 "metadata": {
  "kernelspec": {
   "display_name": "Python [conda env:MST_TFE]",
   "language": "python",
   "name": "conda-env-MST_TFE-py"
  },
  "language_info": {
   "codemirror_mode": {
    "name": "ipython",
    "version": 3
   },
   "file_extension": ".py",
   "mimetype": "text/x-python",
   "name": "python",
   "nbconvert_exporter": "python",
   "pygments_lexer": "ipython3",
   "version": "3.8.8"
  }
 },
 "nbformat": 4,
 "nbformat_minor": 2
}
