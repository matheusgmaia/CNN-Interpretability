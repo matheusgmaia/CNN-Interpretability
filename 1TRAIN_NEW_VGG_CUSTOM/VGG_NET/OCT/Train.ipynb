{
 "cells": [
  {
   "cell_type": "markdown",
   "metadata": {},
   "source": [
    "## OCT - VGG16"
   ]
  },
  {
   "cell_type": "code",
   "execution_count": 1,
   "metadata": {
    "scrolled": true
   },
   "outputs": [
    {
     "name": "stdout",
     "output_type": "stream",
     "text": [
      "1 Physical GPUs, 1 Logical GPUs\n",
      "2.2.0\n"
     ]
    },
    {
     "data": {
      "text/plain": [
       "[PhysicalDevice(name='/physical_device:GPU:0', device_type='GPU')]"
      ]
     },
     "execution_count": 1,
     "metadata": {},
     "output_type": "execute_result"
    }
   ],
   "source": [
    "#Importing Necessary Libraries.\n",
    "from PIL import Image\n",
    "import numpy as np\n",
    "import pandas as pd \n",
    "import random\n",
    "import os\n",
    "#import cv2\n",
    "\n",
    "import matplotlib.pyplot as plt\n",
    "import tensorflow as tf\n",
    "from pathlib import Path\n",
    "\n",
    "gpus = tf.config.list_physical_devices('GPU')\n",
    "if gpus:\n",
    "    try:\n",
    "        tf.config.experimental.set_memory_growth(gpus[0], True)\n",
    "        tf.config.experimental.set_virtual_device_configuration(\n",
    "            gpus[0],\n",
    "            [tf.config.experimental.VirtualDeviceConfiguration(memory_limit=3500)])\n",
    "        logical_gpus = tf.config.experimental.list_logical_devices('GPU')\n",
    "        print(len(gpus), \"Physical GPUs,\", len(logical_gpus), \"Logical GPUs\")\n",
    "    except RuntimeError as e:\n",
    "    # Virtual devices must be set before GPUs have been initialized\n",
    "        print(e)\n",
    "    \n",
    "from tensorflow import keras\n",
    "from tensorflow.keras.models import Sequential\n",
    "from tensorflow.keras.layers import *\n",
    "from tensorflow.keras import backend as K\n",
    "from tensorflow.keras.utils import plot_model\n",
    "from tensorflow.keras.preprocessing.image import ImageDataGenerator, array_to_img, img_to_array, load_img\n",
    "from keras_lr_finder import LRFinder\n",
    "from tensorflow.keras.callbacks import LearningRateScheduler\n",
    "from tensorflow.python.keras import backend\n",
    "from tensorflow.python.keras.applications import imagenet_utils\n",
    "from tensorflow.python.keras.preprocessing import image\n",
    "\n",
    "from sklearn.utils import class_weight \n",
    "\n",
    "print(tf.__version__)\n",
    "tf.config.list_physical_devices('GPU')"
   ]
  },
  {
   "cell_type": "code",
   "execution_count": 2,
   "metadata": {},
   "outputs": [],
   "source": [
    "database_directory = \"/home/maia/Documents/Universidade/Universidade/UNIVERSIDADE/EXPERIMENTO/0DATASETS/OCT/OCT/\"\n",
    "res_list = [224]\n",
    "image_size=(224,224,3)\n",
    "out_dir = \"/home/maia/Documents/Universidade/Universidade/UNIVERSIDADE/EXPERIMENTO/1TRAIN/VGG_NET/OCT/OUT/\"\n",
    "max_epochs = 50"
   ]
  },
  {
   "cell_type": "code",
   "execution_count": 3,
   "metadata": {},
   "outputs": [],
   "source": [
    "import matplotlib.pyplot as plt\n",
    "from matplotlib.ticker import MaxNLocator\n",
    "def plot_and_save(history, modelName, path):\n",
    "    fig, axs = plt.subplots(2, figsize=(18, 10))\n",
    "    axs[0].set_ylim(0,1)\n",
    "    axs[0].plot(range(1,max_epochs+1), history['accuracy'], 'o-')\n",
    "    axs[0].plot(range(1,max_epochs+1), history['val_accuracy'], 'o-')\n",
    "    axs[0].set_title('model accuracy')\n",
    "    axs[0].set_ylabel('accuracy')\n",
    "    axs[0].set_xlabel('epoch')\n",
    "    axs[0].legend(['train', 'validation'], loc='lower left')\n",
    "    axs[0].xaxis.set_major_locator(MaxNLocator(integer=True))\n",
    "    axs[0].set_xticks(range(1,max_epochs+1))\n",
    "\n",
    "    # \"Loss\"\n",
    "    axs[1].plot(range(1,max_epochs+1), history['loss'], 'o-')\n",
    "    axs[1].plot(range(1,max_epochs+1),history['val_loss'], 'o-')\n",
    "    axs[1].set_title('model loss')\n",
    "    axs[1].set_ylabel('loss')\n",
    "    axs[1].set_xlabel('epoch')\n",
    "    axs[1].legend(['train', 'validation'], loc='upper left')\n",
    "    axs[1].xaxis.set_major_locator(MaxNLocator(integer=True))\n",
    "    axs[1].set_xticks(range(1,max_epochs+1))\n",
    "    \n",
    "    plt.savefig(path+  modelName +'.png')\n",
    "    plt.show()\n",
    "    plt.draw()\n",
    "#plot_and_save(history, modelName)"
   ]
  },
  {
   "cell_type": "code",
   "execution_count": null,
   "metadata": {},
   "outputs": [
    {
     "name": "stdout",
     "output_type": "stream",
     "text": [
      "Found 108309 images belonging to 4 classes.\n",
      "Found 1000 images belonging to 4 classes.\n"
     ]
    },
    {
     "name": "stderr",
     "output_type": "stream",
     "text": [
      "/home/maia/anaconda3/envs/MST_TRAIN/lib/python3.7/site-packages/sklearn/utils/validation.py:72: FutureWarning: Pass classes=[0 1 2 3], y=[0 0 0 ... 3 3 3] as keyword args. From version 1.0 (renaming of 0.25) passing these as positional arguments will result in an error\n",
      "  \"will result in an error\", FutureWarning)\n"
     ]
    },
    {
     "name": "stdout",
     "output_type": "stream",
     "text": [
      "WARNING:tensorflow:`period` argument is deprecated. Please use `save_freq` to specify the frequency in number of batches seen.\n",
      "Epoch 1/50\n",
      "6770/6770 [==============================] - 2267s 335ms/step - loss: 0.4650 - accuracy: 0.8381 - val_loss: 0.5401 - val_accuracy: 0.7960\n",
      "Epoch 2/50\n",
      "1981/6770 [=======>......................] - ETA: 27:44 - loss: 0.2967 - accuracy: 0.9009"
     ]
    }
   ],
   "source": [
    "def step_decay_schedule(initial_lr=1e-3, decay_factor=0.75, step_size=10):\n",
    "    def schedule(epoch):\n",
    "        return initial_lr * (decay_factor ** np.floor(epoch/step_size))\n",
    "    return LearningRateScheduler(schedule)\n",
    "\n",
    "\n",
    "def train(res, train_generator, test_generator, class_weights):\n",
    "    #OUTPUT PATH\n",
    "    modelName = 'TRUE_MODEL'+str(res)\n",
    "    Path.mkdir(Path(out_dir+modelName), parents=True, exist_ok=True)\n",
    "    out_run = out_dir+modelName+\"/\"\n",
    "    \n",
    "    #COMPILE AND TRAIN\n",
    "    model = tf.keras.applications.VGG16(input_shape=(res, res, 3), include_top=True,weights = None, classes=4)\n",
    "    mc = keras.callbacks.ModelCheckpoint(out_run + modelName+'_w{epoch:05d}.h5', save_weights_only=False, period=5)\n",
    "    optimizer = tf.keras.optimizers.Adagrad()\n",
    "    model.compile(loss='categorical_crossentropy', optimizer=optimizer, metrics=['accuracy'])\n",
    "    history = model.fit(x=train_generator,epochs=max_epochs,validation_data=test_generator, callbacks=[mc], shuffle=True)\n",
    "    \n",
    "    #SAVE HISTORY AND PLOT\n",
    "    np.save(out_run + modelName +'my_history.npy',history.history)\n",
    "    plot_model(model, to_file= out_run + modelName+'_arc.png',expand_nested=True, show_shapes=True)\n",
    "    plot_and_save(history.history, modelName, out_run)\n",
    "\n",
    "for res in res_list:\n",
    "    h_input = res\n",
    "    w_input = res\n",
    "    batch_size = 16\n",
    "    \n",
    "\n",
    "    train_datagen = ImageDataGenerator(horizontal_flip=True)\n",
    "    test_datagen = ImageDataGenerator()\n",
    "    train_generator = train_datagen.flow_from_directory(\n",
    "            database_directory+\"train\",\n",
    "            target_size=(h_input, w_input),\n",
    "            batch_size=batch_size,\n",
    "            class_mode='categorical')\n",
    "\n",
    "    # this is a similar generator, for validation data\n",
    "    test_generator = test_datagen.flow_from_directory(\n",
    "            database_directory+\"test\",\n",
    "            target_size=(h_input, w_input),\n",
    "            batch_size=batch_size,\n",
    "            class_mode='categorical')\n",
    "    \n",
    "    class_weights = class_weight.compute_class_weight(\n",
    "           'balanced',\n",
    "            np.unique(train_generator.classes), \n",
    "            train_generator.classes)\n",
    "    class_weights = dict(enumerate(class_weights))\n",
    "\n",
    "    \n",
    "    train(res, train_generator, test_generator, class_weights)"
   ]
  },
  {
   "cell_type": "code",
   "execution_count": 5,
   "metadata": {},
   "outputs": [
    {
     "ename": "NameError",
     "evalue": "name 'history' is not defined",
     "output_type": "error",
     "traceback": [
      "\u001b[0;31m---------------------------------------------------------------------------\u001b[0m",
      "\u001b[0;31mNameError\u001b[0m                                 Traceback (most recent call last)",
      "\u001b[0;32m<ipython-input-5-2b5d8446377a>\u001b[0m in \u001b[0;36m<module>\u001b[0;34m\u001b[0m\n\u001b[0;32m----> 1\u001b[0;31m \u001b[0mplot_and_save\u001b[0m\u001b[0;34m(\u001b[0m\u001b[0mhistory\u001b[0m\u001b[0;34m.\u001b[0m\u001b[0mhistory\u001b[0m\u001b[0;34m,\u001b[0m \u001b[0mmodelName\u001b[0m\u001b[0;34m,\u001b[0m \u001b[0mout_run\u001b[0m\u001b[0;34m)\u001b[0m\u001b[0;34m\u001b[0m\u001b[0;34m\u001b[0m\u001b[0m\n\u001b[0m",
      "\u001b[0;31mNameError\u001b[0m: name 'history' is not defined"
     ]
    }
   ],
   "source": [
    "plot_and_save(history.history, modelName, out_run)"
   ]
  },
  {
   "cell_type": "code",
   "execution_count": 30,
   "metadata": {},
   "outputs": [],
   "source": [
    "data = np.load('/home/maia/Documents/Universidade/Universidade/UNIVERSIDADE/EXPERIMENTO/1TRAIN/VGG_NET/OCT/OUT/VGG_res_00010e5_75224/VGG_res_00010e5_75224my_history.npy', allow_pickle=True)"
   ]
  },
  {
   "cell_type": "code",
   "execution_count": 39,
   "metadata": {},
   "outputs": [
    {
     "data": {
      "image/png": "[encoded data removed]",
      "text/plain": [
       "<Figure size 1296x720 with 2 Axes>"
      ]
     },
     "metadata": {
      "needs_background": "light"
     },
     "output_type": "display_data"
    },
    {
     "data": {
      "text/plain": [
       "<Figure size 432x288 with 0 Axes>"
      ]
     },
     "metadata": {},
     "output_type": "display_data"
    }
   ],
   "source": [
    "plot_and_save(data.item(), \"VGG_res_00010e5_75224\", out_dir)"
   ]
  },
  {
   "cell_type": "markdown",
   "metadata": {},
   "source": [
    "## Blocks"
   ]
  },
  {
   "cell_type": "code",
   "execution_count": null,
   "metadata": {},
   "outputs": [],
   "source": [
    "layers = VersionAwareLayers()\n",
    "\n",
    "def teste(\n",
    "    include_top=True,\n",
    "    input_tensor=None,\n",
    "    input_shape=None,\n",
    "    classes=1000,\n",
    "    classifier_activation='softmax',\n",
    "    blocks = 5):\n",
    "\n",
    "    input_shape = imagenet_utils.obtain_input_shape(\n",
    "      input_shape,\n",
    "      default_size=224,\n",
    "      min_size=32,\n",
    "      data_format=backend.image_data_format(),\n",
    "      require_flatten=include_top,\n",
    "      weights=weights)\n",
    "\n",
    "    if input_tensor is None:\n",
    "        img_input = layers.Input(shape=input_shape)\n",
    "    else:\n",
    "        if not backend.is_keras_tensor(input_tensor):\n",
    "            img_input = layers.Input(tensor=input_tensor, shape=input_shape)\n",
    "        else:\n",
    "            img_input = input_tensor\n",
    "\n",
    "    if(blocks >= 1):\n",
    "        # Block 1\n",
    "        x = layers.Conv2D(\n",
    "        64, (3, 3), activation='relu', padding='same', name='block1_conv1')(\n",
    "        img_input)\n",
    "        x = layers.Conv2D(\n",
    "        64, (3, 3), activation='relu', padding='same', name='block1_conv2')(x)\n",
    "        x = layers.MaxPooling2D((2, 2), strides=(2, 2), name='block1_pool')(x)\n",
    "\n",
    "    if(blocks >= 2):\n",
    "        # Block 2\n",
    "        x = layers.Conv2D(\n",
    "        128, (3, 3), activation='relu', padding='same', name='block2_conv1')(x)\n",
    "        x = layers.Conv2D(\n",
    "        128, (3, 3), activation='relu', padding='same', name='block2_conv2')(x)\n",
    "        x = layers.MaxPooling2D((2, 2), strides=(2, 2), name='block2_pool')(x)\n",
    "\n",
    "    if(blocks >= 3):\n",
    "        # Block 3\n",
    "        x = layers.Conv2D(\n",
    "        256, (3, 3), activation='relu', padding='same', name='block3_conv1')(x)\n",
    "        x = layers.Conv2D(\n",
    "        256, (3, 3), activation='relu', padding='same', name='block3_conv2')(x)\n",
    "        x = layers.Conv2D(\n",
    "        256, (3, 3), activation='relu', padding='same', name='block3_conv3')(x)\n",
    "        x = layers.MaxPooling2D((2, 2), strides=(2, 2), name='block3_pool')(x)\n",
    "\n",
    "    if(blocks >= 4):\n",
    "        # Block 4\n",
    "        x = layers.Conv2D(\n",
    "        512, (3, 3), activation='relu', padding='same', name='block4_conv1')(x)\n",
    "        x = layers.Conv2D(\n",
    "        512, (3, 3), activation='relu', padding='same', name='block4_conv2')(x)\n",
    "        x = layers.Conv2D(\n",
    "        512, (3, 3), activation='relu', padding='same', name='block4_conv3')(x)\n",
    "        x = layers.MaxPooling2D((2, 2), strides=(2, 2), name='block4_pool')(x)\n",
    "\n",
    "    if(blocks >= 5):\n",
    "        # Block 5\n",
    "        x = layers.Conv2D(\n",
    "        512, (3, 3), activation='relu', padding='same', name='block5_conv1')(x)\n",
    "        x = layers.Conv2D(\n",
    "        512, (3, 3), activation='relu', padding='same', name='block5_conv2')(x)\n",
    "        x = layers.Conv2D(\n",
    "        512, (3, 3), activation='relu', padding='same', name='block5_conv3')(x)\n",
    "        x = layers.MaxPooling2D((2, 2), strides=(2, 2), name='block5_pool')(x)\n",
    "        \n",
    "    if include_top:\n",
    "        # Classification block\n",
    "        #x = layers.Flatten(name='flatten')(x)\n",
    "        x = layers.GlobalAveragePooling2D()(x)\n",
    "        x = layers.Dense(4096, activation='relu', name='fc1')(x)\n",
    "        x = layers.Dense(4096, activation='relu', name='fc2')(x)\n",
    "\n",
    "        imagenet_utils.validate_activation(classifier_activation, weights)\n",
    "        x = layers.Dense(classes, activation=classifier_activation,\n",
    "                         name='predictions')(x)\n",
    "\n",
    "    if input_tensor is not None:\n",
    "        inputs = layer_utils.get_source_inputs(input_tensor)\n",
    "    else:\n",
    "        inputs = img_input\n",
    "    model = training.Model(inputs, x, name='vgg16')\n",
    "\n",
    "    return model"
   ]
  }
 ],
 "metadata": {
  "kernelspec": {
   "display_name": "Python [conda env:MST_TRAIN]",
   "language": "python",
   "name": "conda-env-MST_TRAIN-py"
  },
  "language_info": {
   "codemirror_mode": {
    "name": "ipython",
    "version": 3
   },
   "file_extension": ".py",
   "mimetype": "text/x-python",
   "name": "python",
   "nbconvert_exporter": "python",
   "pygments_lexer": "ipython3",
   "version": "3.7.10"
  }
 },
 "nbformat": 4,
 "nbformat_minor": 4
}
